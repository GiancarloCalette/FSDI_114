{
 "cells": [
  {
   "attachments": {},
   "cell_type": "markdown",
   "id": "56ae2801",
   "metadata": {},
   "source": [
    "for letter in \"Hello World.\":\n",
    "    print(letter)"
   ]
  },
  {
   "cell_type": "code",
   "execution_count": 1,
   "id": "54bef373",
   "metadata": {},
   "outputs": [
    {
     "name": "stdout",
     "output_type": "stream",
     "text": [
      "H\n",
      "e\n",
      "l\n",
      "l\n",
      "o\n",
      " \n",
      "W\n",
      "o\n",
      "r\n",
      "l\n",
      "d\n",
      ".\n"
     ]
    }
   ],
   "source": [
    "for letter in \"Hello World.\": print(letter)"
   ]
  },
  {
   "cell_type": "code",
   "execution_count": 2,
   "id": "a3de853d",
   "metadata": {},
   "outputs": [],
   "source": [
    "# Problem 1\n",
    "# Anagram check\n",
    "\n",
    "# Create a function that takes two strings as parameters and returns True if they are anagrams of each other, False otherwise.\n",
    "\n",
    "# Examples:\n",
    "# 1. heart and earth\n",
    "# 2. scar and cars\n",
    "\n",
    "# Criteria\n",
    "# Two strings are anagrams of each other if and only if all of the criteria below are met:\n",
    "# 1. They must use all the same characters\n",
    "# 2. They must be of exactly the same length (in characters)"
   ]
  },
  {
   "cell_type": "code",
   "execution_count": 1,
   "id": "c81d4a5d",
   "metadata": {},
   "outputs": [
    {
     "data": {
      "text/plain": [
       "True"
      ]
     },
     "execution_count": 1,
     "metadata": {},
     "output_type": "execute_result"
    }
   ],
   "source": [
    "def check_anagram(string_a, string_b):\n",
    "    return sorted(string_a) == sorted (string_b)\n",
    "check_anagram(\"rats\", \"star\")"
   ]
  }
 ],
 "metadata": {
  "kernelspec": {
   "display_name": "Python 3 (ipykernel)",
   "language": "python",
   "name": "python3"
  },
  "language_info": {
   "codemirror_mode": {
    "name": "ipython",
    "version": 3
   },
   "file_extension": ".py",
   "mimetype": "text/x-python",
   "name": "python",
   "nbconvert_exporter": "python",
   "pygments_lexer": "ipython3",
   "version": "3.10.6"
  }
 },
 "nbformat": 4,
 "nbformat_minor": 5
}
