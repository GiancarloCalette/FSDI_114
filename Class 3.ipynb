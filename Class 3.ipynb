{
 "cells": [
  {
   "cell_type": "code",
   "execution_count": 9,
   "metadata": {},
   "outputs": [],
   "source": [
    "class Stack:\n",
    "    def __init__(self):\n",
    "        self.items = []\n",
    "    \n",
    "    def push(self, value):\n",
    "        self.items.append(value)\n",
    "    \n",
    "    def pop(self):\n",
    "        return self.items.pop()\n",
    "    \n",
    "    # nice to have:\n",
    "\n",
    "    def size(self):\n",
    "        return len(self.items)\n",
    "    \n",
    "    def peek(self):\n",
    "        return self.items[len(self.items)-1]\n",
    "    \n",
    "    def is_empty(self):\n",
    "        return self.items == []"
   ]
  },
  {
   "cell_type": "code",
   "execution_count": 10,
   "metadata": {},
   "outputs": [
    {
     "data": {
      "text/plain": [
       "'leafaR'"
      ]
     },
     "execution_count": 10,
     "metadata": {},
     "output_type": "execute_result"
    }
   ],
   "source": [
    "def invert(mystring):\n",
    "    stack = Stack()\n",
    "    out = \"\"\n",
    "    for letter in mystring:\n",
    "        stack.push(letter)\n",
    "    while not stack.is_empty():\n",
    "        out += stack.pop()\n",
    "    return out\n",
    "\n",
    "invert(\"Rafael\")"
   ]
  },
  {
   "cell_type": "code",
   "execution_count": null,
   "metadata": {},
   "outputs": [],
   "source": [
    "# From scratch implementation\n",
    "\n",
    "# Pass by value\n",
    "x = 5\n",
    "y = x\n",
    "\n",
    "x = x + 1\n",
    "\n",
    "print(y)\n",
    "\n",
    "# data types that pass by value: int, float, bool and imaginary numbers\n",
    "\n",
    "# pass by reference\n",
    "\n",
    "x = [1, 2, 3, 4, 5]\n",
    "\n",
    "y = x\n",
    "\n",
    "x.append(6)"
   ]
  },
  {
   "cell_type": "code",
   "execution_count": 14,
   "metadata": {},
   "outputs": [],
   "source": [
    "class CStack:\n",
    "    class Node():\n",
    "        def __init__(self, data):\n",
    "            self.data = data\n",
    "            self.bottom = None\n",
    "\n",
    "    def __init__(self):\n",
    "        self.top = None\n",
    "\n",
    "    def push(self, value):\n",
    "        if not self.top:\n",
    "            self.top = self.Node(value)\n",
    "        else:\n",
    "            new_node = self.Node(value)\n",
    "            new_node.bottom = self.top\n",
    "            self.top = new_node\n",
    "\n",
    "    def pop(self):\n",
    "        if not self.top:\n",
    "            raise IndexError(\"Stack is empty\")\n",
    "        else:\n",
    "            old_node = self.top.data\n",
    "            self.top = self.top.below\n",
    "            return old_node\n",
    "        \n",
    "    def is_empty(self):\n",
    "        return self.top == None\n",
    "    \n",
    "    def size(self):\n",
    "        pass\n",
    "\n",
    "    def peek(self):\n",
    "        pass\n",
    "\n"
   ]
  },
  {
   "cell_type": "code",
   "execution_count": null,
   "metadata": {},
   "outputs": [],
   "source": [
    "def custom_invert(mystring):\n",
    "    stack = CStack()\n",
    "    for char in mystring:\n",
    "        stack.push(char)\n",
    "    out=\"\"\n",
    "    while not stack.is_empty():\n",
    "        out+=stack.pop()\n",
    "    return out\n",
    "\n",
    "custom_invert(\"Rafael\")"
   ]
  },
  {
   "cell_type": "code",
   "execution_count": null,
   "metadata": {},
   "outputs": [],
   "source": [
    "class Queue:\n",
    "        def __init__(self):\n",
    "            self.items = []\n",
    "\n",
    "        def enqueue(self, value):\n",
    "            self.items.insert(0, value)\n",
    "\n",
    "        def dequeue(self):\n",
    "            return self.items.pop()\n",
    "        \n",
    "        def size(self):\n",
    "            return len(self.items)\n",
    "        \n",
    "        def peek(self):\n",
    "            return self.items[len(self.items)-1]\n",
    "        \n",
    "        def is_empty(self):\n",
    "            return self.items == []"
   ]
  },
  {
   "cell_type": "code",
   "execution_count": null,
   "metadata": {},
   "outputs": [],
   "source": [
    "# Problem 3 \n",
    "# Create a complex implementation of queue considering the followings:\n",
    "# 1. It should not use any built-in data structures\n",
    "# 2. Each node should hold \"some\" data\n",
    "# 3. The considering principle must be maintained\n",
    "# 3.1 It must be FIFO -> First in first out\n",
    "# "
   ]
  }
 ],
 "metadata": {
  "kernelspec": {
   "display_name": "venv",
   "language": "python",
   "name": "python3"
  },
  "language_info": {
   "codemirror_mode": {
    "name": "ipython",
    "version": 3
   },
   "file_extension": ".py",
   "mimetype": "text/x-python",
   "name": "python",
   "nbconvert_exporter": "python",
   "pygments_lexer": "ipython3",
   "version": "3.10.6"
  },
  "orig_nbformat": 4
 },
 "nbformat": 4,
 "nbformat_minor": 2
}
