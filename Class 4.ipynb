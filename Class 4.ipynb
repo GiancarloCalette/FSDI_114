{
 "cells": [
  {
   "cell_type": "code",
   "execution_count": 59,
   "metadata": {},
   "outputs": [],
   "source": [
    "class SinglyLinkedList:\n",
    "    class Node:\n",
    "        def __init__(self, data):\n",
    "            self.data = data\n",
    "            self.next = None\n",
    "\n",
    "    def __init__(self):\n",
    "        self.head = None\n",
    "    \n",
    "    def append(self, value):\n",
    "        new_node = self.Node(value)\n",
    "        if not self.head:\n",
    "            self.head = new_node\n",
    "        else:\n",
    "            current = self.head\n",
    "            while current.next:\n",
    "                current = current.next\n",
    "            current.next = new_node\n",
    "\n",
    "    def __str__(self):\n",
    "        out = \"[\"\n",
    "        current = self.head\n",
    "        if current:\n",
    "            out += \"%s\" % current.data\n",
    "            current = current.next\n",
    "            while current:\n",
    "                out += \", %s\" % current.data\n",
    "                current = current.next\n",
    "        out += \"]\"\n",
    "        return out\n",
    "    \n",
    "    def index(self, value):\n",
    "        if self.head:\n",
    "            counter = 0\n",
    "            current = self.head\n",
    "            while current.next and current.data != value:\n",
    "                current = current.next\n",
    "                counter += 1\n",
    "            if current.data == value:\n",
    "                return counter\n",
    "        raise ValueError(\"Value not found\")\n",
    "    \n",
    "    def inser(self, index, value):\n",
    "        new_node = self.Node(value)\n",
    "        if not self.head:\n",
    "            self.head = new_node\n",
    "        else:\n",
    "            if index == 0:\n",
    "                old_head = self.head\n",
    "                self.head = new_node\n",
    "                new_node.next = old_head\n",
    "            else:\n",
    "                current = self.head\n",
    "                prev = None\n",
    "                counter = 0\n",
    "                while current.next and index != counter:\n",
    "                    prev = current\n",
    "                    current = current.next\n",
    "                    counter += 1\n",
    "                if index == counter:\n",
    "                    prev.next = new_node\n",
    "                    new_node.next = current\n",
    "                else:\n",
    "                    current.next = new_node"
   ]
  },
  {
   "cell_type": "code",
   "execution_count": 55,
   "metadata": {},
   "outputs": [
    {
     "name": "stdout",
     "output_type": "stream",
     "text": [
      "[1, 2, 3, 4]\n"
     ]
    }
   ],
   "source": [
    "x = SinglyLinkedList()\n",
    "\n",
    "for number in range(1, 5):\n",
    "    x.append(number)\n",
    "\n",
    "print(x)"
   ]
  },
  {
   "cell_type": "code",
   "execution_count": 60,
   "metadata": {},
   "outputs": [
    {
     "name": "stdout",
     "output_type": "stream",
     "text": [
      "Empty lists:\n",
      "Our list: []\n",
      "Python list: []\n",
      "Lists with single element:\n",
      "Ourlist: [H]\n",
      "Python list: ['H']\n",
      "Lists with multiple items:\n",
      "Our list: [H, e, l, l, o, ,,  , w, o, r, l, d, !]\n",
      "Python list: ['H', 'e', 'l', 'l', 'o', ',', ' ', 'w', 'o', 'r', 'l', 'd', '!']\n"
     ]
    },
    {
     "ename": "AttributeError",
     "evalue": "'SinglyLinkedList' object has no attribute 'insert'",
     "output_type": "error",
     "traceback": [
      "\u001b[0;31m---------------------------------------------------------------------------\u001b[0m",
      "\u001b[0;31mAttributeError\u001b[0m                            Traceback (most recent call last)",
      "Cell \u001b[0;32mIn[60], line 24\u001b[0m\n\u001b[1;32m     20\u001b[0m \u001b[39mprint\u001b[39m(\u001b[39m\"\u001b[39m\u001b[39mPython list: \u001b[39m\u001b[39m%s\u001b[39;00m\u001b[39m\"\u001b[39m \u001b[39m%\u001b[39m pythonlist)\n\u001b[1;32m     22\u001b[0m ourlist\u001b[39m.\u001b[39mindex(\u001b[39m\"\u001b[39m\u001b[39mw\u001b[39m\u001b[39m\"\u001b[39m)\n\u001b[0;32m---> 24\u001b[0m ourlist\u001b[39m.\u001b[39;49minsert(\u001b[39m1\u001b[39m, \u001b[39m0.5\u001b[39m)\n\u001b[1;32m     25\u001b[0m \u001b[39mprint\u001b[39m(ourlist)\n",
      "\u001b[0;31mAttributeError\u001b[0m: 'SinglyLinkedList' object has no attribute 'insert'"
     ]
    }
   ],
   "source": [
    "mystring = \"ello, world!\"\n",
    "ourlist = SinglyLinkedList()\n",
    "pythonlist = []\n",
    "\n",
    "print(\"Empty lists:\")\n",
    "print(\"Our list: %s\" % ourlist)\n",
    "print(\"Python list: %s\" % pythonlist)\n",
    "\n",
    "ourlist.append(\"H\")\n",
    "pythonlist.append(\"H\")\n",
    "print(\"Lists with single element:\")\n",
    "print(\"Ourlist: %s\" % ourlist)\n",
    "print(\"Python list: %s\" % pythonlist)\n",
    "\n",
    "for letter in mystring:\n",
    "    ourlist.append(letter)\n",
    "    pythonlist.append(letter)\n",
    "print(\"Lists with multiple items:\")\n",
    "print(\"Our list: %s\" % ourlist)\n",
    "print(\"Python list: %s\" % pythonlist)\n",
    "\n",
    "ourlist.index(\"w\")\n",
    "\n",
    "ourlist.insert(1, 0.5)\n",
    "print(ourlist)"
   ]
  },
  {
   "cell_type": "code",
   "execution_count": null,
   "metadata": {},
   "outputs": [],
   "source": [
    "class DoubleLinkedListL:\n",
    "    class Node:\n",
    "        def __init__(self, data)\n",
    "            self.data = data\n",
    "            self.next = None\n",
    "            self.prev = None\n",
    "    def __init__(self):\n",
    "        self.head = None\n",
    "    \n",
    "    def append(self, value):\n",
    "        new_node = self.Node(value)\n",
    "        if not self.head:\n",
    "            self.head = new_node\n",
    "        else:\n",
    "            current = self.head\n",
    "            while current.next:\n",
    "                current = current.next\n",
    "            new_node.prev = current\n",
    "            current.next = new_node\n",
    "    \n",
    "    def insert(self, index, value):\n",
    "        pass\n",
    "\n",
    "    def remove(self, value):\n",
    "        pass"
   ]
  }
 ],
 "metadata": {
  "kernelspec": {
   "display_name": "venv",
   "language": "python",
   "name": "python3"
  },
  "language_info": {
   "codemirror_mode": {
    "name": "ipython",
    "version": 3
   },
   "file_extension": ".py",
   "mimetype": "text/x-python",
   "name": "python",
   "nbconvert_exporter": "python",
   "pygments_lexer": "ipython3",
   "version": "3.10.6"
  },
  "orig_nbformat": 4
 },
 "nbformat": 4,
 "nbformat_minor": 2
}
